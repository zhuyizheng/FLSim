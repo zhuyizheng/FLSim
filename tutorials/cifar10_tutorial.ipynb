{
 "nbformat": 4,
 "nbformat_minor": 0,
 "metadata": {
  "kernelspec": {
   "name": "python3",
   "language": "python",
   "display_name": "Python 3 (ipykernel)"
  },
  "last_server_session_id": "",
  "last_kernel_id": "",
  "last_base_url": "",
  "last_msg_id": "",
  "outputWidgetContext": {},
  "colab": {
   "name": "cifar10_tutorial.ipynb",
   "provenance": [],
   "collapsed_sections": []
  },
  "language_info": {
   "name": "python"
  },
  "accelerator": "GPU"
 },
 "cells": [
  {
   "cell_type": "markdown",
   "metadata": {
    "originalKey": "ec4510e7-5bb1-45a2-ac60-57ca1906cf03",
    "showInput": false,
    "customInput": null,
    "code_folding": [],
    "hidden_ranges": [],
    "id": "RcL6FFVmO_we"
   },
   "source": [
    "# FLSim Tutorial: Image classification with CIFAR-10"
   ]
  },
  {
   "cell_type": "markdown",
   "metadata": {
    "originalKey": "14df5562-53c7-42ee-bafa-a5bcc0e32826",
    "showInput": false,
    "customInput": null,
    "code_folding": [],
    "hidden_ranges": [],
    "id": "9gIQhqPSO_wg"
   },
   "source": [
    "## Introduction\n",
    "\n",
    "In this tutorial, we will train a simple CNN image classifier on CIFAR-10 with federated learning using FLSim."
   ]
  },
  {
   "cell_type": "markdown",
   "metadata": {
    "originalKey": "a4acb953-0669-4c3f-8ce9-4d798c87ca7a",
    "showInput": false,
    "customInput": null,
    "code_folding": [],
    "hidden_ranges": [],
    "id": "qCwSd63HO_wg"
   },
   "source": [
    "### Prerequisites\n",
    "\n",
    "To get the most of this tutorial, you should be comfortable with training machine learning models with **PyTorch** and familiar with the concept of **federated learning (FL)**. If you are unfamiliar with either of them or could use a refresher, please take a look at the following resources before proceeding with the tutorial:\n",
    "\n",
    "- McMahan & Ramage (2017): [Federated Learning: Collaborative Machine Learning without Centralized Training Data](https://ai.googleblog.com/2017/04/federated-learning-collaborative.html). A short blog post from Google AI introducing the main idea of FL in a beginner-friendly way.\n",
    "- McMahan et al. (2017): [Communication-Efficient Learning of Deep Networks from Decentralized Data](https://arxiv.org/pdf/1602.05629.pdf). This paper first proposes the approach of federated learning. The described algorithm is now known as federated averaging (or FedAvg for short).\n",
    "- PyTorch has [extensive tutorials](https://pytorch.org/tutorials/) on their website. In particular, take a look at their [image classification tutorial using CIFAR-10](https://pytorch.org/tutorials/beginner/blitz/cifar10_tutorial.html).\n",
    "\n",
    "Now that you're familiar with PyTorch and FL, let's move on!"
   ]
  },
  {
   "cell_type": "markdown",
   "metadata": {
    "originalKey": "eeb9679b-564f-41f4-ac5e-68af58d18d0b",
    "showInput": false,
    "customInput": null,
    "code_folding": [],
    "hidden_ranges": [],
    "id": "90vb3wIbO_wg"
   },
   "source": [
    "### Objectives \n",
    "\n",
    "By the end of this tutorial, we will have learnt how to\n",
    "\n",
    "1. Build a data pipeline for federated learning with FLSim,\n",
    "2. Create an image classification model compatible with FL training,\n",
    "3. Create a metrics reporter to collect and report metrics,\n",
    "4. Set hyperparameters for FL training, and\n",
    "5. Launch an FL training flow using FLSim."
   ]
  },
  {
   "cell_type": "markdown",
   "metadata": {
    "originalKey": "b82a213b-1dc9-4d0b-be5f-24f7341f25bd",
    "showInput": false,
    "customInput": null,
    "code_folding": [],
    "hidden_ranges": [],
    "id": "SEk7EMBXO_wh"
   },
   "source": [
    "## Training an image classifier with FLSim"
   ]
  },
  {
   "cell_type": "markdown",
   "metadata": {
    "id": "Av-rYy6_w7kT"
   },
   "source": [
    "### Prerequisites\n",
    "First, let us install flsim via pip with the command below:"
   ]
  },
  {
   "cell_type": "code",
   "metadata": {
    "id": "cdMaaGUWjWbs",
    "ExecuteTime": {
     "end_time": "2023-10-24T08:22:26.919438585Z",
     "start_time": "2023-10-24T08:22:25.110798014Z"
    }
   },
   "source": [
    "!pip install --quiet flsim"
   ],
   "execution_count": 1,
   "outputs": []
  },
  {
   "cell_type": "markdown",
   "metadata": {
    "id": "XJ5ByjeMedhi"
   },
   "source": [
    "Some useful parameters for later - no need to change these."
   ]
  },
  {
   "cell_type": "code",
   "metadata": {
    "id": "jAWKDKuieYPO",
    "ExecuteTime": {
     "end_time": "2023-10-24T08:22:26.928892017Z",
     "start_time": "2023-10-24T08:22:26.921164279Z"
    }
   },
   "source": [
    "USE_CUDA = True\n",
    "LOCAL_BATCH_SIZE = 32\n",
    "EXAMPLES_PER_USER = 500\n",
    "IMAGE_SIZE = 32\n",
    "\n",
    "# suppress large outputs\n",
    "VERBOSE = False"
   ],
   "execution_count": 2,
   "outputs": []
  },
  {
   "cell_type": "markdown",
   "metadata": {
    "originalKey": "e78c1595-1416-4a95-8ace-e281555b052a",
    "showInput": false,
    "customInput": null,
    "code_folding": [],
    "hidden_ranges": [],
    "id": "2DgQGgN0O_wi"
   },
   "source": [
    "### 0. About the dataset\n",
    "\n",
    "For this tutorial, we will use the [CIFAR-10 dataset](https://www.cs.toronto.edu/~kriz/cifar.html). The CIFAR-10 dataset consists of 60k 3x32x32 3-channel color images with 32x32 pixels from 10 classes, with 6k images per class. \n",
    "There are 50k training images (5k training images per class) and 10k test images (1k test images per class).\n",
    "The classes are ‘airplane’, ‘automobile’, ‘bird’, ‘cat’, ‘deer’, ‘dog’, ‘frog’, ‘horse’, ‘ship’, and ‘truck’.\n",
    "\n",
    "![img](https://pytorch.org/tutorials/_images/cifar10.png)\n",
    "\n",
    "We can get the CIFAR-10 dataset from `torchvision.datasets`."
   ]
  },
  {
   "cell_type": "code",
   "metadata": {
    "originalKey": "f419c741-d171-4d8a-b731-4ae61916945c",
    "showInput": true,
    "customInput": null,
    "code_folding": [],
    "hidden_ranges": [],
    "requestMsgId": "f419c741-d171-4d8a-b731-4ae61916945c",
    "executionStartTime": 1636504268213,
    "executionStopTime": 1636504272232,
    "id": "ii-IOAM6O_wi",
    "ExecuteTime": {
     "end_time": "2023-10-24T08:22:29.097442667Z",
     "start_time": "2023-10-24T08:22:26.928239390Z"
    }
   },
   "source": [
    "from torchvision.datasets.cifar import CIFAR10"
   ],
   "execution_count": 3,
   "outputs": []
  },
  {
   "cell_type": "markdown",
   "metadata": {
    "originalKey": "f476eb9e-a006-4cbc-81e2-585e771e6707",
    "showInput": false,
    "customInput": null,
    "code_folding": [],
    "hidden_ranges": [],
    "id": "-NipUzoIO_wi"
   },
   "source": [
    "### 1. Data pipeline\n",
    "\n",
    "First, let's define how to build the data pipeline for federated learning:\n",
    "\n",
    "1. We create data transforms and training, eval, and test datasets. This step is identical to preparing data in non-federated learning."
   ]
  },
  {
   "cell_type": "code",
   "metadata": {
    "colab": {
     "base_uri": "https://localhost:8080/"
    },
    "id": "NE8WbhrhoYLk",
    "outputId": "bf447807-58c3-48f3-84c3-e833ec02629c",
    "ExecuteTime": {
     "end_time": "2023-10-24T08:22:30.528225295Z",
     "start_time": "2023-10-24T08:22:29.100828119Z"
    }
   },
   "source": [
    "from torchvision import transforms\n",
    "\n",
    "# 1. Create training, eval, and test datasets like in non-federated learning.\n",
    "transform = transforms.Compose(\n",
    "    [\n",
    "        transforms.Resize(IMAGE_SIZE),\n",
    "        transforms.CenterCrop(IMAGE_SIZE),\n",
    "        transforms.ToTensor(),\n",
    "        transforms.Normalize(\n",
    "            (0.4914, 0.4822, 0.4465), \n",
    "            (0.2023, 0.1994, 0.2010)\n",
    "        ),\n",
    "    ]\n",
    ")\n",
    "train_dataset = CIFAR10(\n",
    "    root=\"./cifar10\", train=True, download=True, transform=transform\n",
    ")\n",
    "test_dataset = CIFAR10(\n",
    "    root=\"./cifar10\", train=False, download=True, transform=transform\n",
    ")"
   ],
   "execution_count": 4,
   "outputs": [
    {
     "name": "stdout",
     "output_type": "stream",
     "text": [
      "Files already downloaded and verified\n",
      "Files already downloaded and verified\n"
     ]
    }
   ]
  },
  {
   "cell_type": "markdown",
   "metadata": {
    "id": "Qk0ckcDsoX8g"
   },
   "source": [
    "\n",
    "There are a few extra steps to enable training with federated learning. In particular, we need to\n",
    "\n",
    "2. Create a sharder, which defines a mapping from examples in the training data to clients. In other words, a sharder groups rows of data into client datasets and returns a list of list of examples. FLSim provides a number of sharding strategies such as random or column-based sharding. \n",
    "In this tutorial, we use sequential sharding, which assigns the first `examples_per_user` rows to user 0, the second `examples_per_user` rows to user 1, etc. \n",
    "\n",
    "3. Create a data loader, which will shard and batchify training, eval, and test data. For each dataset, the data loader first assigns rows to clients using the sharder and then splits each client's data into batches of size `batch_size`. We choose not to drop the last batch.\n",
    "\n",
    "4. Lastly, wrap the data loader with a data provider and return it. The data provider creates clients from the groupings in the data loader and adds metadata (e.g. number of examples/batches). Our data is now formatted such that the trainer will accept it.\n",
    "\n",
    "Note that the concept of a client or device only applies to the training data, the eval and test set data are identical to non-federated learning."
   ]
  },
  {
   "cell_type": "code",
   "metadata": {
    "colab": {
     "base_uri": "https://localhost:8080/"
    },
    "id": "ljDjx6CRotTW",
    "outputId": "782521e0-dead-4a8a-ae90-fe61cc8c5cd9",
    "ExecuteTime": {
     "end_time": "2023-10-24T08:22:46.835881857Z",
     "start_time": "2023-10-24T08:22:30.530488792Z"
    }
   },
   "source": [
    "from flsim.data.data_sharder import SequentialSharder\n",
    "from flsim.utils.example_utils import DataLoader, DataProvider\n",
    "\n",
    "# 2. Create a sharder, which maps samples in the training data to clients.\n",
    "sharder = SequentialSharder(examples_per_shard=EXAMPLES_PER_USER)\n",
    "\n",
    "# 3. Shard and batchify training, eval, and test data.\n",
    "fl_data_loader = DataLoader(\n",
    "    train_dataset=train_dataset,\n",
    "    eval_dataset=test_dataset,\n",
    "    test_dataset=test_dataset,\n",
    "    sharder=sharder,\n",
    "    batch_size=LOCAL_BATCH_SIZE,\n",
    "    drop_last=False,\n",
    ")\n",
    "\n",
    "# 4. Wrap the data loader with a data provider.\n",
    "data_provider = DataProvider(fl_data_loader)\n",
    "print(f\"\\nClients in total: {data_provider.num_train_users()}\")"
   ],
   "execution_count": 5,
   "outputs": [
    {
     "name": "stderr",
     "output_type": "stream",
     "text": [
      "Creating FL User: 100user [00:11,  8.64user/s]\n",
      "Creating FL User: 20user [00:02,  9.36user/s]\n",
      "Creating FL User: 20user [00:02,  9.54user/s]"
     ]
    },
    {
     "name": "stdout",
     "output_type": "stream",
     "text": [
      "\n",
      "Clients in total: 100\n"
     ]
    },
    {
     "name": "stderr",
     "output_type": "stream",
     "text": [
      "\n"
     ]
    }
   ]
  },
  {
   "cell_type": "markdown",
   "metadata": {
    "originalKey": "06d24749-da10-4a1b-a48d-3810fda4ebf9",
    "showInput": false,
    "customInput": null,
    "code_folding": [],
    "hidden_ranges": [],
    "id": "tpZ2H7jNO_wk"
   },
   "source": [
    "### 2. Create the model\n",
    "\n",
    "Now, let's see how we can create a model that is compatible with FL-training.\n",
    "\n",
    "1. First, we define a standard, non-FL image classification PyTorch `nn.Module.` In this tutorial we use a simple CNN with 4 convolutional layers, a group norm, and a linear layer. \n",
    "\n",
    "2. Create a `torch.device` and choose where the model will be allocated (CUDA or CPU).\n",
    "\n",
    "As with the data pipeline, these steps are identical to creating a model in non-federated learning. Note that in contrast to non-FL learning, we haven't moved the model to device yet."
   ]
  },
  {
   "cell_type": "code",
   "metadata": {
    "originalKey": "7d1549e0-5da1-4480-b581-0c46747a301d",
    "showInput": true,
    "customInput": null,
    "code_folding": [],
    "hidden_ranges": [],
    "requestMsgId": "7d1549e0-5da1-4480-b581-0c46747a301d",
    "executionStartTime": 1636422569684,
    "executionStopTime": 1636422570122,
    "id": "ktgmrbTyO_wk",
    "colab": {
     "base_uri": "https://localhost:8080/"
    },
    "outputId": "6ffdb2f8-3a55-4aff-b616-c904adbdd602",
    "ExecuteTime": {
     "end_time": "2023-10-24T08:22:46.901130131Z",
     "start_time": "2023-10-24T08:22:46.840543813Z"
    }
   },
   "source": [
    "import torch\n",
    "from flsim.utils.example_utils import SimpleConvNet\n",
    "\n",
    "# 1. Define our model, a simple CNN.\n",
    "model = SimpleConvNet(in_channels=3, num_classes=10)\n",
    "\n",
    "# 2. Choose where the model will be allocated.\n",
    "cuda_enabled = torch.cuda.is_available() and USE_CUDA\n",
    "device = torch.device(f\"cuda:{0}\" if cuda_enabled else \"cpu\")\n",
    "\n",
    "model, device"
   ],
   "execution_count": 6,
   "outputs": [
    {
     "data": {
      "text/plain": "(SimpleConvNet(\n   (layers): ModuleList(\n     (0): Conv2d(3, 32, kernel_size=(3, 3), stride=(1, 1), padding=(2, 2))\n     (1-3): 3 x Conv2d(32, 32, kernel_size=(3, 3), stride=(1, 1), padding=(2, 2))\n   )\n   (gn_relu): Sequential(\n     (0): GroupNorm(32, 32, eps=1e-05, affine=True)\n     (1): ReLU()\n     (2): MaxPool2d(kernel_size=2, stride=2, padding=0, dilation=1, ceil_mode=False)\n   )\n   (dropout): Dropout(p=0, inplace=False)\n   (fc): Linear(in_features=288, out_features=10, bias=True)\n ),\n device(type='cpu'))"
     },
     "execution_count": 6,
     "metadata": {},
     "output_type": "execute_result"
    }
   ]
  },
  {
   "cell_type": "markdown",
   "metadata": {
    "id": "W2tka3JhCyDx"
   },
   "source": [
    "As with the data pipeline, there are a few extra steps that we need to take to make sure that our model is compatible with FL. In particular, we need to\n",
    "\n",
    "3. Wrap the PyTorch module with the FLSim `FLModel`, an abstracted version of a FL-friendly model class that is accepted by the trainer and handles metric collection, as well as the forward pass for both training and evaluation. We can recover our `nn.Module` by calling `FLModel.fl_get_module()`\n",
    "\n",
    "4. Move the model to GPU and enable CUDA if desired. `FLModel.fl_cuda()` internally calls `model.to(device)` to move the model to GPU."
   ]
  },
  {
   "cell_type": "code",
   "metadata": {
    "originalKey": "fa53c62c-7732-4f31-b73a-3fd61a9ac6e0",
    "showInput": true,
    "customInput": null,
    "code_folding": [],
    "hidden_ranges": [],
    "requestMsgId": "fa53c62c-7732-4f31-b73a-3fd61a9ac6e0",
    "executionStartTime": 1636422570217,
    "executionStopTime": 1636422570544,
    "id": "i1wVfw3OO_wl",
    "ExecuteTime": {
     "end_time": "2023-10-24T08:22:46.901640678Z",
     "start_time": "2023-10-24T08:22:46.857702153Z"
    }
   },
   "source": [
    "from flsim.utils.example_utils import FLModel\n",
    "\n",
    "# 3. Wrap the model with FLModel.\n",
    "global_model = FLModel(model, device)\n",
    "assert(global_model.fl_get_module() == model)\n",
    "\n",
    "# 4. Move the model to GPU and enable CUDA if desired.\n",
    "if cuda_enabled:\n",
    "    global_model.fl_cuda()"
   ],
   "execution_count": 7,
   "outputs": []
  },
  {
   "cell_type": "markdown",
   "metadata": {
    "id": "PJETpvZtDP0O"
   },
   "source": [
    "### 3. Metrics Reporting\n",
    "\n",
    "After having created our data pipeline and FL model, we will now create our metrics reporter. \n",
    "The metrics reporter allows us to collect, evaluate, and report relevant training, aggregation, and evaluation/test metrics as well as log them onto TensorBoard.\n",
    "\n"
   ]
  },
  {
   "cell_type": "code",
   "metadata": {
    "id": "S3dLLIn7ExUq",
    "ExecuteTime": {
     "end_time": "2023-10-24T08:22:46.955995099Z",
     "start_time": "2023-10-24T08:22:46.867149191Z"
    }
   },
   "source": [
    "from flsim.interfaces.metrics_reporter import Channel\n",
    "from flsim.utils.example_utils import MetricsReporter\n",
    "\n",
    "# Create a metric reporter.\n",
    "metrics_reporter = MetricsReporter([Channel.TENSORBOARD, Channel.STDOUT])"
   ],
   "execution_count": 8,
   "outputs": []
  },
  {
   "cell_type": "markdown",
   "metadata": {
    "id": "fO3I_1GF6xzH"
   },
   "source": [
    "There are three functions that are of particular interest:\n",
    "\n",
    "1. `compute_scores` computes the metrics of interest for both training and aggregation (if desired) as well as evaluation/test.\n",
    "\n",
    "2. `create_eval_metrics` creates a dictionary that stores the value for each eval metric. \n",
    "\n",
    "3. `compare_metrics` compares the current eval metrics that are returned by `create_eval_metrics` to the best eval metrics so far.\n",
    "\n",
    "\n",
    "For this tutorial, our only metric of interest is top-1 accuracy. In general, as with the data loading and model, you should write your own metrics reporter depending on the task. For example, if you are running an NLP task you may want to have your metrics reporter track perplexity as well."
   ]
  },
  {
   "cell_type": "code",
   "metadata": {
    "id": "IfuzBfS76yGZ",
    "ExecuteTime": {
     "end_time": "2023-10-24T08:22:46.956362540Z",
     "start_time": "2023-10-24T08:22:46.912709698Z"
    }
   },
   "source": [
    "import inspect\n",
    "\n",
    "if VERBOSE:\n",
    "    print(inspect.getsource(MetricsReporter.compute_scores))\n",
    "    print(inspect.getsource(MetricsReporter.create_eval_metrics))\n",
    "    print(inspect.getsource(MetricsReporter.compare_metrics))"
   ],
   "execution_count": 9,
   "outputs": []
  },
  {
   "cell_type": "markdown",
   "metadata": {
    "originalKey": "983d685b-8e16-4efa-8a10-ec4ab73a69bc",
    "showInput": false,
    "customInput": null,
    "code_folding": [],
    "hidden_ranges": [],
    "id": "ZmvB2-aNO_wl"
   },
   "source": [
    "### 4. Hyperparameters\n",
    "\n",
    "We can represent the hyperparameters for FL training in a JSON config for ease of representation and we convert the JSON config to OmegaConf before passing it to the FL trainer.\n",
    "\n",
    "In particular, we specify a FedAvg implementation with 10 users per round."
   ]
  },
  {
   "cell_type": "code",
   "metadata": {
    "originalKey": "3cdafa88-21b4-4080-ba20-2890431b32dd",
    "showInput": true,
    "customInput": null,
    "requestMsgId": "3cdafa88-21b4-4080-ba20-2890431b32dd",
    "executionStartTime": 1636422570651,
    "executionStopTime": 1636422571503,
    "code_folding": [],
    "hidden_ranges": [],
    "id": "nMCgbRFEO_wl",
    "colab": {
     "base_uri": "https://localhost:8080/"
    },
    "outputId": "ac845a9e-df21-4c94-cf3c-667c111f9bbb",
    "ExecuteTime": {
     "end_time": "2023-10-24T08:22:50.006066249Z",
     "start_time": "2023-10-24T08:22:46.912935490Z"
    }
   },
   "source": [
    "import flsim.configs\n",
    "from flsim.utils.config_utils import fl_config_from_json\n",
    "from omegaconf import OmegaConf\n",
    "\n",
    "json_config = {\n",
    "    \"trainer\": {\n",
    "        \"_base_\": \"base_sync_trainer\",\n",
    "        # there are different types of aggregator\n",
    "        # fed avg doesn't require lr, while others such as fed_avg_with_lr or fed_adam do\n",
    "        \"_base_\": \"base_sync_trainer\",\n",
    "        \"server\": {\n",
    "            \"_base_\": \"base_sync_server\",\n",
    "            \"server_optimizer\": {\n",
    "                \"_base_\": \"base_fed_avg_with_lr\",\n",
    "                \"lr\": 2.13,\n",
    "                \"momentum\": 0.9\n",
    "            },\n",
    "            # type of user selection sampling\n",
    "            \"active_user_selector\": {\"_base_\": \"base_uniformly_random_active_user_selector\"},\n",
    "        },\n",
    "        \"client\": {\n",
    "            # number of client's local epoch\n",
    "            \"epochs\": 1,\n",
    "            \"optimizer\": {\n",
    "                \"_base_\": \"base_optimizer_sgd\",\n",
    "                # client's local learning rate\n",
    "                \"lr\": 0.01,\n",
    "                # client's local momentum\n",
    "                \"momentum\": 0,\n",
    "            },\n",
    "        },\n",
    "        # number of users per round for aggregation\n",
    "        \"users_per_round\": 5,\n",
    "        # total number of global epochs\n",
    "        # total #rounds = ceil(total_users / users_per_round) * epochs\n",
    "        \"epochs\": 1,\n",
    "        # frequency of reporting train metrics\n",
    "        \"train_metrics_reported_per_epoch\": 100,\n",
    "        # frequency of evaluation per epoch\n",
    "        \"eval_epoch_frequency\": 1,\n",
    "        \"do_eval\": True,\n",
    "        # should we report train metrics after global aggregation\n",
    "        \"report_train_metrics_after_aggregation\": True,\n",
    "    }\n",
    "}\n",
    "cfg = fl_config_from_json(json_config)\n",
    "if VERBOSE: print(OmegaConf.to_yaml(cfg))"
   ],
   "execution_count": 10,
   "outputs": [
    {
     "name": "stderr",
     "output_type": "stream",
     "text": [
      "/home/ubuntu22/PycharmProjects/FLSim/flsim/utils/config_utils.py:198: UserWarning: \n",
      "The version_base parameter is not specified.\n",
      "Please specify a compatability version level, or None.\n",
      "Will assume defaults for version 1.1\n",
      "  with initialize(config_path=None):\n"
     ]
    }
   ]
  },
  {
   "cell_type": "markdown",
   "metadata": {
    "originalKey": "d3296d38-38da-44ea-ad8e-305de0c3e06d",
    "showInput": false,
    "customInput": null,
    "code_folding": [],
    "hidden_ranges": [],
    "id": "GBvhMLL1O_wm"
   },
   "source": [
    "### 5. Training\n",
    "Recall that we already built the data provider and created a model compatible with FL training. \n",
    "We also initialized a metrics reporter and set our desired hyperparameters.\n",
    "\n",
    "Now, we only need to instantiate the trainer with the model and hyperparameter config we defined earlier to launch the FL training flow. We run FL training with the above JSON config and utilize `eval_score` to store the final evaluation metrics."
   ]
  },
  {
   "cell_type": "code",
   "metadata": {
    "originalKey": "2eccb04f-229a-43f9-8310-0ced64132e2b",
    "showInput": true,
    "customInput": null,
    "code_folding": [],
    "hidden_ranges": [],
    "requestMsgId": "2eccb04f-229a-43f9-8310-0ced64132e2b",
    "executionStartTime": 1636422644878,
    "executionStopTime": 1636422645173,
    "id": "kLWIpCxjO_wn",
    "colab": {
     "base_uri": "https://localhost:8080/"
    },
    "outputId": "d344cfe0-60bd-475f-f57e-226621639d03",
    "ExecuteTime": {
     "end_time": "2023-10-24T08:25:05.240341832Z",
     "start_time": "2023-10-24T08:23:10.625761577Z"
    }
   },
   "source": [
    "from hydra.utils import instantiate\n",
    "\n",
    "# Instantiate the trainer.\n",
    "trainer = instantiate(cfg.trainer, model=global_model, cuda_enabled=cuda_enabled)   \n",
    "\n",
    "# Launch FL training.\n",
    "final_model, eval_score = trainer.train(\n",
    "    data_provider=data_provider,\n",
    "    metrics_reporter=metrics_reporter,\n",
    "    num_total_users=data_provider.num_train_users(),\n",
    "    distributed_world_size=1\n",
    ")"
   ],
   "execution_count": 11,
   "outputs": [
    {
     "name": "stderr",
     "output_type": "stream",
     "text": [
      "Round:   0%|          | 0/20 [00:00<?, ?round/s]"
     ]
    },
    {
     "name": "stdout",
     "output_type": "stream",
     "text": [
      "*** clients ***\n",
      "*** FL updating a client! ***\n",
      "client: <flsim.clients.base_client.Client object at 0x7fd236ffbb20>\n",
      "*** computing delta! ***\n",
      "delta norm before: 0.2731243073940277\n",
      "*** normalizing delta! ***\n",
      "delta norm after: 1.0\n",
      "*** FL updating a client! ***\n",
      "client: <flsim.clients.base_client.Client object at 0x7fd237edd790>\n",
      "*** computing delta! ***\n",
      "delta norm before: 0.2843219041824341\n",
      "*** normalizing delta! ***\n",
      "delta norm after: 1.0\n",
      "*** FL updating a client! ***\n",
      "client: <flsim.clients.base_client.Client object at 0x7fd237126dc0>\n",
      "*** computing delta! ***\n",
      "delta norm before: 0.27967569231987\n",
      "*** normalizing delta! ***\n",
      "delta norm after: 0.9999999403953552\n",
      "*** FL updating a client! ***\n",
      "client: <flsim.clients.base_client.Client object at 0x7fd2372af2e0>\n",
      "*** computing delta! ***\n",
      "delta norm before: 0.282144695520401\n",
      "*** normalizing delta! ***\n",
      "delta norm after: 1.0\n",
      "*** FL updating a client! ***\n",
      "client: <flsim.clients.base_client.Client object at 0x7fd23744f550>\n",
      "*** computing delta! ***\n",
      "delta norm before: 0.27761879563331604\n",
      "*** normalizing delta! ***\n",
      "delta norm after: 0.9999999403953552\n",
      "Train finished Global Round: 1\n",
      "(epoch = 1, round = 1, global round = 1), Loss/Training: 2.3305666774511336\n",
      "(epoch = 1, round = 1, global round = 1), Accuracy/Training: 13.44\n"
     ]
    },
    {
     "name": "stderr",
     "output_type": "stream",
     "text": [
      "Round:   5%|▌         | 1/20 [00:10<03:17, 10.41s/round]"
     ]
    },
    {
     "name": "stdout",
     "output_type": "stream",
     "text": [
      "(epoch = 1, round = 1, global round = 1), Loss/Aggregation: 3.599871537089348\n",
      "(epoch = 1, round = 1, global round = 1), Accuracy/Aggregation: 10.48\n",
      "*** clients ***\n",
      "*** FL updating a client! ***\n",
      "client: <flsim.clients.base_client.Client object at 0x7fd2378e6f10>\n",
      "*** computing delta! ***\n",
      "delta norm before: 0.3977954387664795\n",
      "*** normalizing delta! ***\n",
      "delta norm after: 1.0\n",
      "*** FL updating a client! ***\n",
      "client: <flsim.clients.base_client.Client object at 0x7fd237457a90>\n",
      "*** computing delta! ***\n",
      "delta norm before: 0.3669048547744751\n",
      "*** normalizing delta! ***\n",
      "delta norm after: 1.0\n",
      "*** FL updating a client! ***\n",
      "client: <flsim.clients.base_client.Client object at 0x7fd2372af730>\n",
      "*** computing delta! ***\n",
      "delta norm before: 0.4014224112033844\n",
      "*** normalizing delta! ***\n",
      "delta norm after: 0.9999999403953552\n",
      "*** FL updating a client! ***\n",
      "client: <flsim.clients.base_client.Client object at 0x7fd237026130>\n",
      "*** computing delta! ***\n",
      "delta norm before: 0.431845486164093\n",
      "*** normalizing delta! ***\n",
      "delta norm after: 0.9999999403953552\n",
      "*** FL updating a client! ***\n",
      "client: <flsim.clients.base_client.Client object at 0x7fd238396c10>\n",
      "*** computing delta! ***\n",
      "delta norm before: 0.41958823800086975\n",
      "*** normalizing delta! ***\n",
      "delta norm after: 1.0000001192092896\n",
      "Train finished Global Round: 2\n",
      "(epoch = 1, round = 2, global round = 2), Loss/Training: 2.514374631643295\n",
      "(epoch = 1, round = 2, global round = 2), Accuracy/Training: 23.2\n"
     ]
    },
    {
     "name": "stderr",
     "output_type": "stream",
     "text": [
      "Round:  10%|█         | 2/20 [00:17<02:32,  8.45s/round]"
     ]
    },
    {
     "name": "stdout",
     "output_type": "stream",
     "text": [
      "(epoch = 1, round = 2, global round = 2), Loss/Aggregation: 10.437564879655838\n",
      "(epoch = 1, round = 2, global round = 2), Accuracy/Aggregation: 9.12\n",
      "*** clients ***\n",
      "*** FL updating a client! ***\n",
      "client: <flsim.clients.base_client.Client object at 0x7fd238354df0>\n",
      "*** computing delta! ***\n",
      "delta norm before: 0.816408097743988\n",
      "*** normalizing delta! ***\n",
      "delta norm after: 0.9999998807907104\n",
      "*** FL updating a client! ***\n",
      "client: <flsim.clients.base_client.Client object at 0x7fd2383f1910>\n",
      "*** computing delta! ***\n",
      "delta norm before: 0.8474814295768738\n",
      "*** normalizing delta! ***\n",
      "delta norm after: 0.9999998807907104\n",
      "*** FL updating a client! ***\n",
      "client: <flsim.clients.base_client.Client object at 0x7fd237437a00>\n",
      "*** computing delta! ***\n",
      "delta norm before: 0.8466973900794983\n",
      "*** normalizing delta! ***\n",
      "delta norm after: 1.0\n",
      "*** FL updating a client! ***\n",
      "client: <flsim.clients.base_client.Client object at 0x7fd238354c10>\n",
      "*** computing delta! ***\n",
      "delta norm before: 0.8294088840484619\n",
      "*** normalizing delta! ***\n",
      "delta norm after: 1.0\n",
      "*** FL updating a client! ***\n",
      "client: <flsim.clients.base_client.Client object at 0x7fd23802cac0>\n",
      "*** computing delta! ***\n",
      "delta norm before: 0.8216308355331421\n",
      "*** normalizing delta! ***\n",
      "delta norm after: 1.0\n",
      "Train finished Global Round: 3\n",
      "(epoch = 1, round = 3, global round = 3), Loss/Training: 3.9879344046115874\n",
      "(epoch = 1, round = 3, global round = 3), Accuracy/Training: 19.76\n"
     ]
    },
    {
     "name": "stderr",
     "output_type": "stream",
     "text": [
      "Round:  15%|█▌        | 3/20 [00:23<02:07,  7.51s/round]"
     ]
    },
    {
     "name": "stdout",
     "output_type": "stream",
     "text": [
      "(epoch = 1, round = 3, global round = 3), Loss/Aggregation: 2.6442373767495155\n",
      "(epoch = 1, round = 3, global round = 3), Accuracy/Aggregation: 22.84\n",
      "*** clients ***\n",
      "*** FL updating a client! ***\n",
      "client: <flsim.clients.base_client.Client object at 0x7fd23744f160>\n",
      "*** computing delta! ***\n",
      "delta norm before: 0.2965182065963745\n",
      "*** normalizing delta! ***\n",
      "delta norm after: 1.0\n",
      "*** FL updating a client! ***\n",
      "client: <flsim.clients.base_client.Client object at 0x7fd2386e2430>\n",
      "*** computing delta! ***\n",
      "delta norm before: 0.2853381633758545\n",
      "*** normalizing delta! ***\n",
      "delta norm after: 1.0\n",
      "*** FL updating a client! ***\n",
      "client: <flsim.clients.base_client.Client object at 0x7fd2374579a0>\n",
      "*** computing delta! ***\n",
      "delta norm before: 0.3111647963523865\n",
      "*** normalizing delta! ***\n",
      "delta norm after: 1.0\n",
      "*** FL updating a client! ***\n",
      "client: <flsim.clients.base_client.Client object at 0x7fd238390fa0>\n",
      "*** computing delta! ***\n",
      "delta norm before: 0.31004780530929565\n",
      "*** normalizing delta! ***\n",
      "delta norm after: 1.0000001192092896\n",
      "*** FL updating a client! ***\n",
      "client: <flsim.clients.base_client.Client object at 0x7fd23793ddf0>\n",
      "*** computing delta! ***\n",
      "delta norm before: 0.2751440405845642\n",
      "*** normalizing delta! ***\n",
      "delta norm after: 1.0\n",
      "Train finished Global Round: 4\n",
      "(epoch = 1, round = 4, global round = 4), Loss/Training: 2.3708010256290435\n",
      "(epoch = 1, round = 4, global round = 4), Accuracy/Training: 25.28\n"
     ]
    },
    {
     "name": "stderr",
     "output_type": "stream",
     "text": [
      "Round:  20%|██        | 4/20 [00:32<02:08,  8.01s/round]"
     ]
    },
    {
     "name": "stdout",
     "output_type": "stream",
     "text": [
      "(epoch = 1, round = 4, global round = 4), Loss/Aggregation: 10.234052801132203\n",
      "(epoch = 1, round = 4, global round = 4), Accuracy/Aggregation: 10.0\n",
      "*** clients ***\n",
      "*** FL updating a client! ***\n",
      "client: <flsim.clients.base_client.Client object at 0x7fd237fa0b80>\n",
      "*** computing delta! ***\n",
      "delta norm before: 1.003581166267395\n",
      "*** normalizing delta! ***\n",
      "delta norm after: 0.9999999403953552\n",
      "*** FL updating a client! ***\n",
      "client: <flsim.clients.base_client.Client object at 0x7fd237f71e50>\n",
      "*** computing delta! ***\n",
      "delta norm before: 0.9818763732910156\n",
      "*** normalizing delta! ***\n",
      "delta norm after: 1.0\n",
      "*** FL updating a client! ***\n",
      "client: <flsim.clients.base_client.Client object at 0x7fd25e2a1a90>\n",
      "*** computing delta! ***\n",
      "delta norm before: 0.9684560894966125\n",
      "*** normalizing delta! ***\n",
      "delta norm after: 0.9999999403953552\n",
      "*** FL updating a client! ***\n",
      "client: <flsim.clients.base_client.Client object at 0x7fd237a14100>\n",
      "*** computing delta! ***\n",
      "delta norm before: 0.9754949808120728\n",
      "*** normalizing delta! ***\n",
      "delta norm after: 1.0\n",
      "*** FL updating a client! ***\n",
      "client: <flsim.clients.base_client.Client object at 0x7fd2378b8070>\n",
      "*** computing delta! ***\n",
      "delta norm before: 0.9981942772865295\n",
      "*** normalizing delta! ***\n",
      "delta norm after: 1.0\n",
      "Train finished Global Round: 5\n",
      "(epoch = 1, round = 5, global round = 5), Loss/Training: 4.991472807526589\n",
      "(epoch = 1, round = 5, global round = 5), Accuracy/Training: 12.0\n"
     ]
    },
    {
     "name": "stderr",
     "output_type": "stream",
     "text": [
      "Round:  25%|██▌       | 5/20 [00:40<01:57,  7.83s/round]"
     ]
    },
    {
     "name": "stdout",
     "output_type": "stream",
     "text": [
      "(epoch = 1, round = 5, global round = 5), Loss/Aggregation: 3.218816262483597\n",
      "(epoch = 1, round = 5, global round = 5), Accuracy/Aggregation: 11.0\n",
      "*** clients ***\n",
      "*** FL updating a client! ***\n",
      "client: <flsim.clients.base_client.Client object at 0x7fd2383f1a00>\n",
      "*** computing delta! ***\n",
      "delta norm before: 0.3648887276649475\n",
      "*** normalizing delta! ***\n",
      "delta norm after: 1.0\n",
      "*** FL updating a client! ***\n",
      "client: <flsim.clients.base_client.Client object at 0x7fd237f10910>\n",
      "*** computing delta! ***\n",
      "delta norm before: 0.3271062672138214\n",
      "*** normalizing delta! ***\n",
      "delta norm after: 1.0\n",
      "*** FL updating a client! ***\n",
      "client: <flsim.clients.base_client.Client object at 0x7fd23839b250>\n",
      "*** computing delta! ***\n",
      "delta norm before: 0.3592316508293152\n",
      "*** normalizing delta! ***\n",
      "delta norm after: 1.0\n",
      "*** FL updating a client! ***\n",
      "client: <flsim.clients.base_client.Client object at 0x7fd237f21e20>\n",
      "*** computing delta! ***\n",
      "delta norm before: 0.3592480719089508\n",
      "*** normalizing delta! ***\n",
      "delta norm after: 0.9999998807907104\n",
      "*** FL updating a client! ***\n",
      "client: <flsim.clients.base_client.Client object at 0x7fd2375875b0>\n",
      "*** computing delta! ***\n",
      "delta norm before: 0.34040847420692444\n",
      "*** normalizing delta! ***\n",
      "delta norm after: 1.0\n",
      "Train finished Global Round: 6\n",
      "(epoch = 1, round = 6, global round = 6), Loss/Training: 2.7808887392282484\n",
      "(epoch = 1, round = 6, global round = 6), Accuracy/Training: 13.88\n"
     ]
    },
    {
     "name": "stderr",
     "output_type": "stream",
     "text": [
      "Round:  30%|███       | 6/20 [00:46<01:40,  7.15s/round]"
     ]
    },
    {
     "name": "stdout",
     "output_type": "stream",
     "text": [
      "(epoch = 1, round = 6, global round = 6), Loss/Aggregation: 2.4727012321352957\n",
      "(epoch = 1, round = 6, global round = 6), Accuracy/Aggregation: 19.28\n",
      "*** clients ***\n",
      "*** FL updating a client! ***\n",
      "client: <flsim.clients.base_client.Client object at 0x7fd2381e99d0>\n",
      "*** computing delta! ***\n",
      "delta norm before: 0.11781445145606995\n",
      "*** normalizing delta! ***\n",
      "delta norm after: 1.0\n",
      "*** FL updating a client! ***\n",
      "client: <flsim.clients.base_client.Client object at 0x7fd2378c8e20>\n",
      "*** computing delta! ***\n",
      "delta norm before: 0.12550689280033112\n",
      "*** normalizing delta! ***\n",
      "delta norm after: 0.9999998807907104\n",
      "*** FL updating a client! ***\n",
      "client: <flsim.clients.base_client.Client object at 0x7fd237d1d760>\n",
      "*** computing delta! ***\n",
      "delta norm before: 0.09930417686700821\n",
      "*** normalizing delta! ***\n",
      "delta norm after: 0.9999999403953552\n",
      "*** FL updating a client! ***\n",
      "client: <flsim.clients.base_client.Client object at 0x7fd2381f1280>\n",
      "*** computing delta! ***\n",
      "delta norm before: 0.12168338894844055\n",
      "*** normalizing delta! ***\n",
      "delta norm after: 0.9999998807907104\n",
      "*** FL updating a client! ***\n",
      "client: <flsim.clients.base_client.Client object at 0x7fd2382100d0>\n",
      "*** computing delta! ***\n",
      "delta norm before: 0.1199946478009224\n",
      "*** normalizing delta! ***\n",
      "delta norm after: 1.0\n",
      "Train finished Global Round: 7\n",
      "(epoch = 1, round = 7, global round = 7), Loss/Training: 2.4181724399328233\n",
      "(epoch = 1, round = 7, global round = 7), Accuracy/Training: 19.16\n"
     ]
    },
    {
     "name": "stderr",
     "output_type": "stream",
     "text": [
      "Round:  35%|███▌      | 7/20 [00:51<01:27,  6.74s/round]"
     ]
    },
    {
     "name": "stdout",
     "output_type": "stream",
     "text": [
      "(epoch = 1, round = 7, global round = 7), Loss/Aggregation: 2.263486534357071\n",
      "(epoch = 1, round = 7, global round = 7), Accuracy/Aggregation: 14.76\n",
      "*** clients ***\n",
      "*** FL updating a client! ***\n",
      "client: <flsim.clients.base_client.Client object at 0x7fd2383dcbb0>\n",
      "*** computing delta! ***\n",
      "delta norm before: 0.03898811712861061\n",
      "*** normalizing delta! ***\n",
      "delta norm after: 0.9999997615814209\n",
      "*** FL updating a client! ***\n",
      "client: <flsim.clients.base_client.Client object at 0x7fd237587b20>\n",
      "*** computing delta! ***\n",
      "delta norm before: 0.03752143308520317\n",
      "*** normalizing delta! ***\n",
      "delta norm after: 0.9999997615814209\n",
      "*** FL updating a client! ***\n",
      "client: <flsim.clients.base_client.Client object at 0x7fd237d7a190>\n",
      "*** computing delta! ***\n",
      "delta norm before: 0.03711140528321266\n",
      "*** normalizing delta! ***\n",
      "delta norm after: 0.9999996423721313\n",
      "*** FL updating a client! ***\n",
      "client: <flsim.clients.base_client.Client object at 0x7fd237f23880>\n",
      "*** computing delta! ***\n",
      "delta norm before: 0.034208185970783234\n",
      "*** normalizing delta! ***\n",
      "delta norm after: 0.9999995827674866\n",
      "*** FL updating a client! ***\n",
      "client: <flsim.clients.base_client.Client object at 0x7fd2b04f0b20>\n",
      "*** computing delta! ***\n",
      "delta norm before: 0.04709095135331154\n",
      "*** normalizing delta! ***\n",
      "delta norm after: 0.9999998211860657\n",
      "Train finished Global Round: 8\n",
      "(epoch = 1, round = 8, global round = 8), Loss/Training: 2.2678311079740525\n",
      "(epoch = 1, round = 8, global round = 8), Accuracy/Training: 14.0\n"
     ]
    },
    {
     "name": "stderr",
     "output_type": "stream",
     "text": [
      "Round:  40%|████      | 8/20 [00:56<01:14,  6.17s/round]"
     ]
    },
    {
     "name": "stdout",
     "output_type": "stream",
     "text": [
      "(epoch = 1, round = 8, global round = 8), Loss/Aggregation: 2.36442711353302\n",
      "(epoch = 1, round = 8, global round = 8), Accuracy/Aggregation: 12.76\n",
      "*** clients ***\n",
      "*** FL updating a client! ***\n",
      "client: <flsim.clients.base_client.Client object at 0x7fd237ec3610>\n",
      "*** computing delta! ***\n",
      "delta norm before: 0.11741168797016144\n",
      "*** normalizing delta! ***\n",
      "delta norm after: 0.9999999403953552\n",
      "*** FL updating a client! ***\n",
      "client: <flsim.clients.base_client.Client object at 0x7fd237ea6d30>\n",
      "*** computing delta! ***\n",
      "delta norm before: 0.11119589954614639\n",
      "*** normalizing delta! ***\n",
      "delta norm after: 0.9999999403953552\n",
      "*** FL updating a client! ***\n",
      "client: <flsim.clients.base_client.Client object at 0x7fd2383fd190>\n",
      "*** computing delta! ***\n",
      "delta norm before: 0.11636430770158768\n",
      "*** normalizing delta! ***\n",
      "delta norm after: 0.9999998807907104\n",
      "*** FL updating a client! ***\n",
      "client: <flsim.clients.base_client.Client object at 0x7fd2b04ff190>\n",
      "*** computing delta! ***\n",
      "delta norm before: 0.12166426330804825\n",
      "*** normalizing delta! ***\n",
      "delta norm after: 0.9999998807907104\n",
      "*** FL updating a client! ***\n",
      "client: <flsim.clients.base_client.Client object at 0x7fd237ec3160>\n",
      "*** computing delta! ***\n",
      "delta norm before: 0.1094338446855545\n",
      "*** normalizing delta! ***\n",
      "delta norm after: 0.9999998807907104\n",
      "Train finished Global Round: 9\n",
      "(epoch = 1, round = 9, global round = 9), Loss/Training: 2.341386067867279\n",
      "(epoch = 1, round = 9, global round = 9), Accuracy/Training: 13.6\n"
     ]
    },
    {
     "name": "stderr",
     "output_type": "stream",
     "text": [
      "Round:  45%|████▌     | 9/20 [01:06<01:18,  7.13s/round]"
     ]
    },
    {
     "name": "stdout",
     "output_type": "stream",
     "text": [
      "(epoch = 1, round = 9, global round = 9), Loss/Aggregation: 2.4869251787662505\n",
      "(epoch = 1, round = 9, global round = 9), Accuracy/Aggregation: 10.36\n",
      "*** clients ***\n",
      "*** FL updating a client! ***\n",
      "client: <flsim.clients.base_client.Client object at 0x7fd2381f1190>\n",
      "*** computing delta! ***\n",
      "delta norm before: 0.14319711923599243\n",
      "*** normalizing delta! ***\n",
      "delta norm after: 0.9999999403953552\n",
      "*** FL updating a client! ***\n",
      "client: <flsim.clients.base_client.Client object at 0x7fd2381f6d00>\n",
      "*** computing delta! ***\n",
      "delta norm before: 0.13947251439094543\n",
      "*** normalizing delta! ***\n",
      "delta norm after: 0.9999999403953552\n",
      "*** FL updating a client! ***\n",
      "client: <flsim.clients.base_client.Client object at 0x7fd2381f1a00>\n",
      "*** computing delta! ***\n",
      "delta norm before: 0.1542637199163437\n",
      "*** normalizing delta! ***\n",
      "delta norm after: 0.9999999403953552\n",
      "*** FL updating a client! ***\n",
      "client: <flsim.clients.base_client.Client object at 0x7fd268735f40>\n",
      "*** computing delta! ***\n",
      "delta norm before: 0.14724873006343842\n",
      "*** normalizing delta! ***\n",
      "delta norm after: 0.9999998211860657\n",
      "*** FL updating a client! ***\n",
      "client: <flsim.clients.base_client.Client object at 0x7fd2375da130>\n",
      "*** computing delta! ***\n",
      "delta norm before: 0.16582535207271576\n",
      "*** normalizing delta! ***\n",
      "delta norm after: 0.9999998807907104\n",
      "Train finished Global Round: 10\n",
      "(epoch = 1, round = 10, global round = 10), Loss/Training: 2.4504537910223005\n",
      "(epoch = 1, round = 10, global round = 10), Accuracy/Training: 11.6\n"
     ]
    },
    {
     "name": "stderr",
     "output_type": "stream",
     "text": [
      "Round:  50%|█████     | 10/20 [01:09<00:58,  5.90s/round]"
     ]
    },
    {
     "name": "stdout",
     "output_type": "stream",
     "text": [
      "(epoch = 1, round = 10, global round = 10), Loss/Aggregation: 2.3377160131931305\n",
      "(epoch = 1, round = 10, global round = 10), Accuracy/Aggregation: 12.0\n",
      "*** clients ***\n",
      "*** FL updating a client! ***\n",
      "client: <flsim.clients.base_client.Client object at 0x7fd2375b58e0>\n",
      "*** computing delta! ***\n",
      "delta norm before: 0.06314309686422348\n",
      "*** normalizing delta! ***\n",
      "delta norm after: 0.9999998807907104\n",
      "*** FL updating a client! ***\n",
      "client: <flsim.clients.base_client.Client object at 0x7fd237569fa0>\n",
      "*** computing delta! ***\n",
      "delta norm before: 0.06305715441703796\n",
      "*** normalizing delta! ***\n",
      "delta norm after: 0.9999999403953552\n",
      "*** FL updating a client! ***\n",
      "client: <flsim.clients.base_client.Client object at 0x7fd23702e550>\n",
      "*** computing delta! ***\n",
      "delta norm before: 0.049515094608068466\n",
      "*** normalizing delta! ***\n",
      "delta norm after: 0.9999998807907104\n",
      "*** FL updating a client! ***\n",
      "client: <flsim.clients.base_client.Client object at 0x7fd237198880>\n",
      "*** computing delta! ***\n",
      "delta norm before: 0.060427941381931305\n",
      "*** normalizing delta! ***\n",
      "delta norm after: 0.9999996423721313\n",
      "*** FL updating a client! ***\n",
      "client: <flsim.clients.base_client.Client object at 0x7fd237410370>\n",
      "*** computing delta! ***\n",
      "delta norm before: 0.06315166503190994\n",
      "*** normalizing delta! ***\n",
      "delta norm after: 0.9999998807907104\n",
      "Train finished Global Round: 11\n",
      "(epoch = 1, round = 11, global round = 11), Loss/Training: 2.332582491636276\n",
      "(epoch = 1, round = 11, global round = 11), Accuracy/Training: 12.08\n"
     ]
    },
    {
     "name": "stderr",
     "output_type": "stream",
     "text": [
      "Round:  55%|█████▌    | 11/20 [01:12<00:45,  5.04s/round]"
     ]
    },
    {
     "name": "stdout",
     "output_type": "stream",
     "text": [
      "(epoch = 1, round = 11, global round = 11), Loss/Aggregation: 2.4670733541250227\n",
      "(epoch = 1, round = 11, global round = 11), Accuracy/Aggregation: 14.6\n",
      "*** clients ***\n",
      "*** FL updating a client! ***\n",
      "client: <flsim.clients.base_client.Client object at 0x7fd2383fd730>\n",
      "*** computing delta! ***\n",
      "delta norm before: 0.1428319662809372\n",
      "*** normalizing delta! ***\n",
      "delta norm after: 0.9999999403953552\n",
      "*** FL updating a client! ***\n",
      "client: <flsim.clients.base_client.Client object at 0x7fd238396fa0>\n",
      "*** computing delta! ***\n",
      "delta norm before: 0.15864033997058868\n",
      "*** normalizing delta! ***\n",
      "delta norm after: 0.9999999403953552\n",
      "*** FL updating a client! ***\n",
      "client: <flsim.clients.base_client.Client object at 0x7fd237564550>\n",
      "*** computing delta! ***\n",
      "delta norm before: 0.15332239866256714\n",
      "*** normalizing delta! ***\n",
      "delta norm after: 0.9999998807907104\n",
      "*** FL updating a client! ***\n",
      "client: <flsim.clients.base_client.Client object at 0x7fd237d1d760>\n",
      "*** computing delta! ***\n",
      "delta norm before: 0.1504458636045456\n",
      "*** normalizing delta! ***\n",
      "delta norm after: 0.9999999403953552\n",
      "*** FL updating a client! ***\n",
      "client: <flsim.clients.base_client.Client object at 0x7fd237d7a1f0>\n",
      "*** computing delta! ***\n",
      "delta norm before: 0.1532113254070282\n",
      "*** normalizing delta! ***\n",
      "delta norm after: 0.9999998807907104\n",
      "Train finished Global Round: 12\n",
      "(epoch = 1, round = 12, global round = 12), Loss/Training: 2.4269071936607363\n",
      "(epoch = 1, round = 12, global round = 12), Accuracy/Training: 14.52\n"
     ]
    },
    {
     "name": "stderr",
     "output_type": "stream",
     "text": [
      "Round:  60%|██████    | 12/20 [01:14<00:33,  4.20s/round]"
     ]
    },
    {
     "name": "stdout",
     "output_type": "stream",
     "text": [
      "(epoch = 1, round = 12, global round = 12), Loss/Aggregation: 2.4311916500329973\n",
      "(epoch = 1, round = 12, global round = 12), Accuracy/Aggregation: 10.24\n",
      "*** clients ***\n",
      "*** FL updating a client! ***\n",
      "client: <flsim.clients.base_client.Client object at 0x7fd237864790>\n",
      "*** computing delta! ***\n",
      "delta norm before: 0.09312263876199722\n",
      "*** normalizing delta! ***\n",
      "delta norm after: 0.9999999403953552\n",
      "*** FL updating a client! ***\n",
      "client: <flsim.clients.base_client.Client object at 0x7fd238227820>\n",
      "*** computing delta! ***\n",
      "delta norm before: 0.10086008161306381\n",
      "*** normalizing delta! ***\n",
      "delta norm after: 1.0\n",
      "*** FL updating a client! ***\n",
      "client: <flsim.clients.base_client.Client object at 0x7fd237f71d30>\n",
      "*** computing delta! ***\n",
      "delta norm before: 0.10316474735736847\n",
      "*** normalizing delta! ***\n",
      "delta norm after: 1.0\n",
      "*** FL updating a client! ***\n",
      "client: <flsim.clients.base_client.Client object at 0x7fd23789d1f0>\n",
      "*** computing delta! ***\n",
      "delta norm before: 0.08866924792528152\n",
      "*** normalizing delta! ***\n",
      "delta norm after: 0.9999999403953552\n",
      "*** FL updating a client! ***\n",
      "client: <flsim.clients.base_client.Client object at 0x7fd23820aac0>\n",
      "*** computing delta! ***\n",
      "delta norm before: 0.10612804442644119\n",
      "*** normalizing delta! ***\n",
      "delta norm after: 0.9999998807907104\n",
      "Train finished Global Round: 13\n",
      "(epoch = 1, round = 13, global round = 13), Loss/Training: 2.4295481503009797\n",
      "(epoch = 1, round = 13, global round = 13), Accuracy/Training: 9.36\n"
     ]
    },
    {
     "name": "stderr",
     "output_type": "stream",
     "text": [
      "Round:  65%|██████▌   | 13/20 [01:19<00:30,  4.41s/round]"
     ]
    },
    {
     "name": "stdout",
     "output_type": "stream",
     "text": [
      "(epoch = 1, round = 13, global round = 13), Loss/Aggregation: 2.4580227971076964\n",
      "(epoch = 1, round = 13, global round = 13), Accuracy/Aggregation: 11.96\n",
      "*** clients ***\n",
      "*** FL updating a client! ***\n",
      "client: <flsim.clients.base_client.Client object at 0x7fd238407670>\n",
      "*** computing delta! ***\n",
      "delta norm before: 0.1144479513168335\n",
      "*** normalizing delta! ***\n",
      "delta norm after: 0.9999998211860657\n",
      "*** FL updating a client! ***\n",
      "client: <flsim.clients.base_client.Client object at 0x7fd2378fc910>\n",
      "*** computing delta! ***\n",
      "delta norm before: 0.10646335780620575\n",
      "*** normalizing delta! ***\n",
      "delta norm after: 0.9999998807907104\n",
      "*** FL updating a client! ***\n",
      "client: <flsim.clients.base_client.Client object at 0x7fd237597310>\n",
      "*** computing delta! ***\n",
      "delta norm before: 0.10798005759716034\n",
      "*** normalizing delta! ***\n",
      "delta norm after: 0.9999999403953552\n",
      "*** FL updating a client! ***\n",
      "client: <flsim.clients.base_client.Client object at 0x7fd237f101f0>\n",
      "*** computing delta! ***\n",
      "delta norm before: 0.09626559168100357\n",
      "*** normalizing delta! ***\n",
      "delta norm after: 0.9999998807907104\n",
      "*** FL updating a client! ***\n",
      "client: <flsim.clients.base_client.Client object at 0x7fd237edd6d0>\n",
      "*** computing delta! ***\n",
      "delta norm before: 0.09643615037202835\n",
      "*** normalizing delta! ***\n",
      "delta norm after: 0.9999999403953552\n",
      "Train finished Global Round: 14\n",
      "(epoch = 1, round = 14, global round = 14), Loss/Training: 2.413235068321228\n",
      "(epoch = 1, round = 14, global round = 14), Accuracy/Training: 12.72\n"
     ]
    },
    {
     "name": "stderr",
     "output_type": "stream",
     "text": [
      "Round:  70%|███████   | 14/20 [01:24<00:27,  4.66s/round]"
     ]
    },
    {
     "name": "stdout",
     "output_type": "stream",
     "text": [
      "(epoch = 1, round = 14, global round = 14), Loss/Aggregation: 2.341620495915413\n",
      "(epoch = 1, round = 14, global round = 14), Accuracy/Aggregation: 13.0\n",
      "*** clients ***\n",
      "*** FL updating a client! ***\n",
      "client: <flsim.clients.base_client.Client object at 0x7fd2370ba730>\n",
      "*** computing delta! ***\n",
      "delta norm before: 0.08755127340555191\n",
      "*** normalizing delta! ***\n",
      "delta norm after: 0.9999999403953552\n",
      "*** FL updating a client! ***\n",
      "client: <flsim.clients.base_client.Client object at 0x7fd238412070>\n",
      "*** computing delta! ***\n",
      "delta norm before: 0.07435301691293716\n",
      "*** normalizing delta! ***\n",
      "delta norm after: 0.9999998807907104\n",
      "*** FL updating a client! ***\n",
      "client: <flsim.clients.base_client.Client object at 0x7fd237864d30>\n",
      "*** computing delta! ***\n",
      "delta norm before: 0.09211733192205429\n",
      "*** normalizing delta! ***\n",
      "delta norm after: 0.9999999403953552\n",
      "*** FL updating a client! ***\n",
      "client: <flsim.clients.base_client.Client object at 0x7fd23823b640>\n",
      "*** computing delta! ***\n",
      "delta norm before: 0.072665274143219\n",
      "*** normalizing delta! ***\n",
      "delta norm after: 0.9999999403953552\n",
      "*** FL updating a client! ***\n",
      "client: <flsim.clients.base_client.Client object at 0x7fd237adb970>\n",
      "*** computing delta! ***\n",
      "delta norm before: 0.07122446596622467\n",
      "*** normalizing delta! ***\n",
      "delta norm after: 0.9999998807907104\n",
      "Train finished Global Round: 15\n",
      "(epoch = 1, round = 15, global round = 15), Loss/Training: 2.337884229421616\n",
      "(epoch = 1, round = 15, global round = 15), Accuracy/Training: 13.76\n"
     ]
    },
    {
     "name": "stderr",
     "output_type": "stream",
     "text": [
      "Round:  75%|███████▌  | 15/20 [01:27<00:20,  4.15s/round]"
     ]
    },
    {
     "name": "stdout",
     "output_type": "stream",
     "text": [
      "(epoch = 1, round = 15, global round = 15), Loss/Aggregation: 2.285178118944168\n",
      "(epoch = 1, round = 15, global round = 15), Accuracy/Aggregation: 14.32\n",
      "*** clients ***\n",
      "*** FL updating a client! ***\n",
      "client: <flsim.clients.base_client.Client object at 0x7fd2378effa0>\n",
      "*** computing delta! ***\n",
      "delta norm before: 0.04833580181002617\n",
      "*** normalizing delta! ***\n",
      "delta norm after: 0.9999997019767761\n",
      "*** FL updating a client! ***\n",
      "client: <flsim.clients.base_client.Client object at 0x7fd238334070>\n",
      "*** computing delta! ***\n",
      "delta norm before: 0.042075980454683304\n",
      "*** normalizing delta! ***\n",
      "delta norm after: 0.9999997615814209\n",
      "*** FL updating a client! ***\n",
      "client: <flsim.clients.base_client.Client object at 0x7fd237fc1580>\n",
      "*** computing delta! ***\n",
      "delta norm before: 0.04291263967752457\n",
      "*** normalizing delta! ***\n",
      "delta norm after: 0.9999997019767761\n",
      "*** FL updating a client! ***\n",
      "client: <flsim.clients.base_client.Client object at 0x7fd237414f70>\n",
      "*** computing delta! ***\n",
      "delta norm before: 0.04339218884706497\n",
      "*** normalizing delta! ***\n",
      "delta norm after: 0.9999997615814209\n",
      "*** FL updating a client! ***\n",
      "client: <flsim.clients.base_client.Client object at 0x7fd237a1cc40>\n",
      "*** computing delta! ***\n",
      "delta norm before: 0.042977675795555115\n",
      "*** normalizing delta! ***\n",
      "delta norm after: 0.9999997615814209\n",
      "Train finished Global Round: 16\n",
      "(epoch = 1, round = 16, global round = 16), Loss/Training: 2.2700393944978714\n",
      "(epoch = 1, round = 16, global round = 16), Accuracy/Training: 14.84\n"
     ]
    },
    {
     "name": "stderr",
     "output_type": "stream",
     "text": [
      "Round:  80%|████████  | 16/20 [01:31<00:16,  4.05s/round]"
     ]
    },
    {
     "name": "stdout",
     "output_type": "stream",
     "text": [
      "(epoch = 1, round = 16, global round = 16), Loss/Aggregation: 2.2919827133417128\n",
      "(epoch = 1, round = 16, global round = 16), Accuracy/Aggregation: 14.68\n",
      "*** clients ***\n",
      "*** FL updating a client! ***\n",
      "client: <flsim.clients.base_client.Client object at 0x7fd237d87130>\n",
      "*** computing delta! ***\n",
      "delta norm before: 0.04135385528206825\n",
      "*** normalizing delta! ***\n",
      "delta norm after: 0.9999997019767761\n",
      "*** FL updating a client! ***\n",
      "client: <flsim.clients.base_client.Client object at 0x7fd237a06250>\n",
      "*** computing delta! ***\n",
      "delta norm before: 0.03461717814207077\n",
      "*** normalizing delta! ***\n",
      "delta norm after: 0.9999996423721313\n",
      "*** FL updating a client! ***\n",
      "client: <flsim.clients.base_client.Client object at 0x7fd2372ac460>\n",
      "*** computing delta! ***\n",
      "delta norm before: 0.03300275281071663\n",
      "*** normalizing delta! ***\n",
      "delta norm after: 0.9999996423721313\n",
      "*** FL updating a client! ***\n",
      "client: <flsim.clients.base_client.Client object at 0x7fd2372ac160>\n",
      "*** computing delta! ***\n",
      "delta norm before: 0.03800148889422417\n",
      "*** normalizing delta! ***\n",
      "delta norm after: 0.9999996423721313\n",
      "*** FL updating a client! ***\n",
      "client: <flsim.clients.base_client.Client object at 0x7fd237ec3940>\n",
      "*** computing delta! ***\n",
      "delta norm before: 0.03715289756655693\n",
      "*** normalizing delta! ***\n",
      "delta norm after: 0.9999997019767761\n",
      "Train finished Global Round: 17\n",
      "(epoch = 1, round = 17, global round = 17), Loss/Training: 2.2807193636894225\n",
      "(epoch = 1, round = 17, global round = 17), Accuracy/Training: 14.44\n"
     ]
    },
    {
     "name": "stderr",
     "output_type": "stream",
     "text": [
      "Round:  85%|████████▌ | 17/20 [01:34<00:10,  3.65s/round]"
     ]
    },
    {
     "name": "stdout",
     "output_type": "stream",
     "text": [
      "(epoch = 1, round = 17, global round = 17), Loss/Aggregation: 2.800315809249878\n",
      "(epoch = 1, round = 17, global round = 17), Accuracy/Aggregation: 15.84\n",
      "*** clients ***\n",
      "*** FL updating a client! ***\n",
      "client: <flsim.clients.base_client.Client object at 0x7fd237a14670>\n",
      "*** computing delta! ***\n",
      "delta norm before: 0.210496187210083\n",
      "*** normalizing delta! ***\n",
      "delta norm after: 0.9999999403953552\n",
      "*** FL updating a client! ***\n",
      "client: <flsim.clients.base_client.Client object at 0x7fd23823b820>\n",
      "*** computing delta! ***\n",
      "delta norm before: 0.21036532521247864\n",
      "*** normalizing delta! ***\n",
      "delta norm after: 0.9999998807907104\n",
      "*** FL updating a client! ***\n",
      "client: <flsim.clients.base_client.Client object at 0x7fd237ab8f70>\n",
      "*** computing delta! ***\n",
      "delta norm before: 0.2233106642961502\n",
      "*** normalizing delta! ***\n",
      "delta norm after: 0.9999998807907104\n",
      "*** FL updating a client! ***\n",
      "client: <flsim.clients.base_client.Client object at 0x7fd237aa4df0>\n",
      "*** computing delta! ***\n",
      "delta norm before: 0.22418725490570068\n",
      "*** normalizing delta! ***\n",
      "delta norm after: 0.9999999403953552\n",
      "*** FL updating a client! ***\n",
      "client: <flsim.clients.base_client.Client object at 0x7fd237ae9b80>\n",
      "*** computing delta! ***\n",
      "delta norm before: 0.22568157315254211\n",
      "*** normalizing delta! ***\n",
      "delta norm after: 1.0\n",
      "Train finished Global Round: 18\n",
      "(epoch = 1, round = 18, global round = 18), Loss/Training: 2.6383275523781777\n",
      "(epoch = 1, round = 18, global round = 18), Accuracy/Training: 15.4\n"
     ]
    },
    {
     "name": "stderr",
     "output_type": "stream",
     "text": [
      "Round:  90%|█████████ | 18/20 [01:38<00:07,  3.78s/round]"
     ]
    },
    {
     "name": "stdout",
     "output_type": "stream",
     "text": [
      "(epoch = 1, round = 18, global round = 18), Loss/Aggregation: 2.4768665820360183\n",
      "(epoch = 1, round = 18, global round = 18), Accuracy/Aggregation: 12.28\n",
      "*** clients ***\n",
      "*** FL updating a client! ***\n",
      "client: <flsim.clients.base_client.Client object at 0x7fd237984c10>\n",
      "*** computing delta! ***\n",
      "delta norm before: 0.1356615424156189\n",
      "*** normalizing delta! ***\n",
      "delta norm after: 0.9999999403953552\n",
      "*** FL updating a client! ***\n",
      "client: <flsim.clients.base_client.Client object at 0x7fd2379b90d0>\n",
      "*** computing delta! ***\n",
      "delta norm before: 0.12988266348838806\n",
      "*** normalizing delta! ***\n",
      "delta norm after: 0.9999998211860657\n",
      "*** FL updating a client! ***\n",
      "client: <flsim.clients.base_client.Client object at 0x7fd237a1c3d0>\n",
      "*** computing delta! ***\n",
      "delta norm before: 0.15974557399749756\n",
      "*** normalizing delta! ***\n",
      "delta norm after: 0.9999997615814209\n",
      "*** FL updating a client! ***\n",
      "client: <flsim.clients.base_client.Client object at 0x7fd237d8ecd0>\n",
      "*** computing delta! ***\n",
      "delta norm before: 0.11942388862371445\n",
      "*** normalizing delta! ***\n",
      "delta norm after: 1.0\n",
      "*** FL updating a client! ***\n",
      "client: <flsim.clients.base_client.Client object at 0x7fd2379e2970>\n",
      "*** computing delta! ***\n",
      "delta norm before: 0.13452602922916412\n",
      "*** normalizing delta! ***\n",
      "delta norm after: 0.9999999403953552\n",
      "Train finished Global Round: 19\n",
      "(epoch = 1, round = 19, global round = 19), Loss/Training: 2.4262279629707337\n",
      "(epoch = 1, round = 19, global round = 19), Accuracy/Training: 12.76\n"
     ]
    },
    {
     "name": "stderr",
     "output_type": "stream",
     "text": [
      "Round:  95%|█████████▌| 19/20 [01:43<00:04,  4.27s/round]"
     ]
    },
    {
     "name": "stdout",
     "output_type": "stream",
     "text": [
      "(epoch = 1, round = 19, global round = 19), Loss/Aggregation: 2.322485500574112\n",
      "(epoch = 1, round = 19, global round = 19), Accuracy/Aggregation: 15.32\n",
      "*** clients ***\n",
      "*** FL updating a client! ***\n",
      "client: <flsim.clients.base_client.Client object at 0x7fd237414e50>\n",
      "*** computing delta! ***\n",
      "delta norm before: 0.037589170038700104\n",
      "*** normalizing delta! ***\n",
      "delta norm after: 0.9999997019767761\n",
      "*** FL updating a client! ***\n",
      "client: <flsim.clients.base_client.Client object at 0x7fd237ae9940>\n",
      "*** computing delta! ***\n",
      "delta norm before: 0.03508024290204048\n",
      "*** normalizing delta! ***\n",
      "delta norm after: 0.9999997019767761\n",
      "*** FL updating a client! ***\n",
      "client: <flsim.clients.base_client.Client object at 0x7fd237aa4820>\n",
      "*** computing delta! ***\n",
      "delta norm before: 0.031514812260866165\n",
      "*** normalizing delta! ***\n",
      "delta norm after: 0.9999997019767761\n",
      "*** FL updating a client! ***\n",
      "client: <flsim.clients.base_client.Client object at 0x7fd23841f040>\n",
      "*** computing delta! ***\n",
      "delta norm before: 0.04476442188024521\n",
      "*** normalizing delta! ***\n",
      "delta norm after: 0.9999997019767761\n",
      "*** FL updating a client! ***\n",
      "client: <flsim.clients.base_client.Client object at 0x7fd2373f8c70>\n",
      "*** computing delta! ***\n",
      "delta norm before: 0.0351421944797039\n",
      "*** normalizing delta! ***\n",
      "delta norm after: 0.9999997019767761\n",
      "Train finished Global Round: 20\n",
      "(epoch = 1, round = 20, global round = 20), Loss/Training: 2.3169447481632233\n",
      "(epoch = 1, round = 20, global round = 20), Accuracy/Training: 13.68\n",
      "(epoch = 1, round = 20, global round = 20), Loss/Aggregation: 4.294001072645187\n",
      "(epoch = 1, round = 20, global round = 20), Accuracy/Aggregation: 18.64\n",
      "(epoch = 1, round = 20, global round = 20): \t Evaluates global model on all data of eval users\n",
      "(epoch = 1, round = 20, global round = 20), Loss/Eval: 4.143025754392147\n",
      "(epoch = 1, round = 20, global round = 20), Accuracy/Eval: 16.71\n"
     ]
    },
    {
     "name": "stderr",
     "output_type": "stream",
     "text": [
      "Round:  95%|█████████▌| 19/20 [01:54<00:06,  6.03s/round]\n",
      "Epoch:   0%|          | 0/1 [01:54<?, ?epoch/s]\n"
     ]
    }
   ]
  },
  {
   "cell_type": "markdown",
   "metadata": {
    "originalKey": "6af80324-793c-4678-9143-80c89f6b299b",
    "showInput": false,
    "customInput": null,
    "id": "EKc8SBAtO_wo"
   },
   "source": [
    "After training finishes, we evaluate the model and report the accuracy on the test set before finishing this tutorial.\n"
   ]
  },
  {
   "cell_type": "code",
   "metadata": {
    "originalKey": "6ebd30d1-c3eb-437b-8719-1056167baaf9",
    "showInput": true,
    "customInput": null,
    "code_folding": [],
    "hidden_ranges": [],
    "requestMsgId": "6ebd30d1-c3eb-437b-8719-1056167baaf9",
    "executionStopTime": 1636423399091,
    "executionStartTime": 1636423389997,
    "id": "PKUbnLbZO_wo",
    "colab": {
     "base_uri": "https://localhost:8080/"
    },
    "outputId": "1fc1003b-845b-484d-dc97-56df628f8553",
    "ExecuteTime": {
     "end_time": "2023-10-24T01:58:37.365754519Z",
     "start_time": "2023-10-24T01:58:33.803773029Z"
    }
   },
   "source": [
    "# We can now test our trained model.\n",
    "trainer.test(\n",
    "    data_provider=data_provider,\n",
    "    metrics_reporter=MetricsReporter([Channel.STDOUT]),\n",
    ")"
   ],
   "execution_count": 11,
   "outputs": [
    {
     "name": "stdout",
     "output_type": "stream",
     "text": [
      "Running (epoch = 1, round = 1, global round = 1) for Test\n",
      "(epoch = 1, round = 1, global round = 1), Loss/Test: 1.4767778711393476\n",
      "(epoch = 1, round = 1, global round = 1), Accuracy/Test: 46.96\n"
     ]
    },
    {
     "data": {
      "text/plain": "{'Accuracy': 46.96}"
     },
     "execution_count": 11,
     "metadata": {},
     "output_type": "execute_result"
    }
   ]
  },
  {
   "cell_type": "markdown",
   "metadata": {
    "originalKey": "d8235e4e-b860-4554-aa5d-fa4a8c312467",
    "showInput": false,
    "customInput": null,
    "code_folding": [],
    "hidden_ranges": [],
    "id": "oM2ozTxJO_wo"
   },
   "source": [
    "## Summary\n",
    "\n",
    "In this tutorial, we first showed how to get the data. We then built a data provider by sharding the data to simulate multiple client devices, each with their own data, and splitting each client's data into batches. \n",
    "We defined a simple CNN as our model, wrapped it with a model compatible with FL training, and moved it to GPU. \n",
    "Lastly, we set the hyperparameters for FL training, launched the training flow, and evaluated our model."
   ]
  },
  {
   "cell_type": "markdown",
   "metadata": {
    "originalKey": "462e5328-7112-48b5-abcc-b2599aeb9c94",
    "showInput": false,
    "customInput": null,
    "code_folding": [],
    "hidden_ranges": [],
    "id": "uH-Gqo8UO_wo"
   },
   "source": [
    "### Additional resources\n",
    "\n",
    "- For a more in-depth understanding of this tutorial, check out [example_utils.py](https://github.com/facebookresearch/FLSim/blob/main/flsim/utils/example_utils.py) where we define the data loader, data provider, simple CNN, `FLModel`, and metrics reporter that we use in this tutorial.\n",
    "\n",
    "- [FLSim tutorials](https://github.com/facebookresearch/FLSim/tree/main/tutorials) - check out our other tutorial on sentiment classification.\n",
    "\n",
    "- Kairouz et al. (2021): [Advances and Open Problems in Federated Learning](https://arxiv.org/pdf/1912.04977.pdf). As the title suggests, an in-depth overview of advances and open problems in FL.\n",
    "\n",
    "- If you're interested in federated learning with differential privacy, take a look at [Opacus](https://opacus.ai/), a library that enables training PyTorch models with differential privacy. \n",
    "You can find a blog post introducing Opacus [here](https://ai.facebook.com/blog/introducing-opacus-a-high-speed-library-for-training-pytorch-models-with-differential-privacy/).\n",
    "\n"
   ]
  },
  {
   "cell_type": "code",
   "execution_count": null,
   "outputs": [],
   "source": [],
   "metadata": {
    "collapsed": false
   }
  }
 ]
}
